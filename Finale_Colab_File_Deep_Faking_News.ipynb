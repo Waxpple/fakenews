{
  "nbformat": 4,
  "nbformat_minor": 0,
  "metadata": {
    "colab": {
      "name": "Copy of DeepFaking the News with NLP and Transformer Models",
      "provenance": [],
      "collapsed_sections": [],
      "machine_shape": "hm",
      "include_colab_link": true
    },
    "kernelspec": {
      "name": "python3",
      "display_name": "Python 3"
    },
    "accelerator": "GPU"
  },
  "cells": [
    {
      "cell_type": "markdown",
      "metadata": {
        "id": "view-in-github",
        "colab_type": "text"
      },
      "source": [
        "<a href=\"https://colab.research.google.com/github/Waxpple/fakenews/blob/master/Finale_Colab_File_Deep_Faking_News.ipynb\" target=\"_parent\"><img src=\"https://colab.research.google.com/assets/colab-badge.svg\" alt=\"Open In Colab\"/></a>"
      ]
    },
    {
      "cell_type": "markdown",
      "metadata": {
        "colab_type": "text",
        "id": "kGiS6nLLjOVc"
      },
      "source": [
        "REF:\n",
        "# link:\"\"\"DeepFaking the News with NLP and Transformer Models fron Alan Geitger\n",
        "#Original file is located at\n",
        "#    https://colab.research.google.com/drive/#1VI3oBIOQYsym2x5oOux7DTNhpdR0r4uw\n"
      ]
    },
    {
      "cell_type": "markdown",
      "metadata": {
        "id": "xzgvpvrAsDc3",
        "colab_type": "text"
      },
      "source": [
        "### Step 1: Configuration"
      ]
    },
    {
      "cell_type": "code",
      "metadata": {
        "id": "4_rK3jeYNcPj",
        "colab_type": "code",
        "outputId": "eb0b57ab-54e4-4b02-e955-cfcb83713822",
        "colab": {
          "base_uri": "https://localhost:8080/",
          "height": 34
        }
      },
      "source": [
        "!pip install python-wordpress-xmlrpc"
      ],
      "execution_count": 11,
      "outputs": [
        {
          "output_type": "stream",
          "text": [
            "Requirement already satisfied: python-wordpress-xmlrpc in /usr/local/lib/python3.6/dist-packages (2.3)\n"
          ],
          "name": "stdout"
        }
      ]
    },
    {
      "cell_type": "code",
      "metadata": {
        "id": "2H2c5j44Namr",
        "colab_type": "code",
        "colab": {}
      },
      "source": [
        "from wordpress_xmlrpc import Client, WordPressPost\n",
        "from wordpress_xmlrpc.methods.posts import NewPost\n",
        "\n",
        "#authenticate\n",
        "wp_url = \"####\"\n",
        "wp_username = \"####\"\n",
        "wp_password = \"####\"\n",
        "\n",
        "wp = Client(wp_url, wp_username, wp_password)"
      ],
      "execution_count": 0,
      "outputs": []
    },
    {
      "cell_type": "code",
      "metadata": {
        "id": "brqmJquupaCZ",
        "colab_type": "code",
        "colab": {}
      },
      "source": [
        "# Fake person who will be slandered/libeled in the fake articles\n",
        "NAME_TO_SLANDER = \"Peter Godamn\"\n",
        "IMAGE_TO_SLANDER = \"https://thispersondoesnotexist.com/\"\n",
        "\n",
        "SLANDEROUS_SEED_HEADLINES = [\n",
        "\n",
        "  f\"{NAME_TO_SLANDER}Tesco halts production at Chinese factory over alleged 'forced' labour\",\n",
        "  f\"{NAME_TO_SLANDER}Whirlpool: MPs call on washing machine firm to offer swift refunds\",\n",
        "  f\"{NAME_TO_SLANDER}Emanuel Ungaro: French fashion designer Emanuel dies aged 86\",\n",
        "  f\"{NAME_TO_SLANDER}Is Barbie's makeover working?\",\n",
        "  f\"{NAME_TO_SLANDER}Nord Stream 2: Germany and Russia decry US sanctions\",\n",
        "  f\"{NAME_TO_SLANDER}Andrew Bailey appointed as new Bank of England governor\",\n",
        "  f\"{NAME_TO_SLANDER}UK approves £4bn US takeover of defence company Cobham\",\n",
        "  f\"{NAME_TO_SLANDER}Airbnb is not an estate agent, EU court rules\",\n",
        "  f\"{NAME_TO_SLANDER}Huawei: Trouble overseas but boom time in China\",\n",
        "  f\"{NAME_TO_SLANDER}Twitch sued for £2.1bn over Premier League by Russian firm\",\n",
        "  f\"{NAME_TO_SLANDER}How China plans to lead the computer chip industry\",\n",
        "  f\"{NAME_TO_SLANDER}Mesut Ozil: Arsenal-Manchester City game removed from schedules by China state TV\",\n",
        "  f\"{NAME_TO_SLANDER}Premier League chief executive Richard Masters given job on permanent basis by Dan Roan BBC sports editor\",\n",
        "  f\"{NAME_TO_SLANDER}How the scramble for sand is destroying the Mekong\",\n",
        "  f\"{NAME_TO_SLANDER}How millennials are changing the perfume business\",\n",
        "  f\"{NAME_TO_SLANDER}Trade disputes settlement system facing crisis\",\n",
        "  f\"{NAME_TO_SLANDER}Cambodia's bicycle firms face bumps in the road\",\n",
        "  f\"{NAME_TO_SLANDER}Zut alors! The Americans who are farming edible snails\",\n",
        "  f\"{NAME_TO_SLANDER}Should Germany spend more to revive its economy?\",\n",
        "  f\"{NAME_TO_SLANDER}Can a new apple take over the world?\",\n",
        "\n",
        "]\n",
        "\n",
        "# Which news website to 'clone'\n",
        "#DOMAIN_STYLE_TO_COPY = \"www.nytimes.com\"\n",
        "#RSS_FEEDS_OF_REAL_STORIES_TO_EMULATE = [\n",
        "#  \"https://rss.nytimes.com/services/xml/rss/nyt/US.xml\",\n",
        "#]\n",
        "#http://feeds.bbci.co.uk/news/business/rss.xml\n",
        "DOMAIN_STYLE_TO_COPY = \"www.bbc.co.uk\"\n",
        "RSS_FEEDS_OF_REAL_STORIES_TO_EMULATE = [\n",
        "  \"http://feeds.bbci.co.uk/news/business/rss.xml\",\n",
        "]\n"
      ],
      "execution_count": 0,
      "outputs": []
    },
    {
      "cell_type": "markdown",
      "metadata": {
        "id": "0pEenfAczd4Y",
        "colab_type": "text"
      },
      "source": [
        "### Step 2: Download Grover code and install requirements"
      ]
    },
    {
      "cell_type": "code",
      "metadata": {
        "id": "XDKbiVNRJSWf",
        "colab_type": "code",
        "outputId": "3d428cf2-03b7-4cca-9900-3b7184936b94",
        "colab": {
          "base_uri": "https://localhost:8080/",
          "height": 153
        }
      },
      "source": [
        "%cd /content\n",
        "!git clone https://github.com/rowanz/grover.git\n",
        "%cd /content/grover\n",
        "!python3 -m pip install regex jsonlines twitter-text-python feedparser"
      ],
      "execution_count": 18,
      "outputs": [
        {
          "output_type": "stream",
          "text": [
            "/content\n",
            "fatal: destination path 'grover' already exists and is not an empty directory.\n",
            "/content/grover\n",
            "Requirement already satisfied: regex in /usr/local/lib/python3.6/dist-packages (2019.12.9)\n",
            "Requirement already satisfied: jsonlines in /usr/local/lib/python3.6/dist-packages (1.2.0)\n",
            "Requirement already satisfied: twitter-text-python in /usr/local/lib/python3.6/dist-packages (1.1.1)\n",
            "Requirement already satisfied: feedparser in /usr/local/lib/python3.6/dist-packages (5.2.1)\n",
            "Requirement already satisfied: six in /usr/local/lib/python3.6/dist-packages (from jsonlines) (1.12.0)\n"
          ],
          "name": "stdout"
        }
      ]
    },
    {
      "cell_type": "markdown",
      "metadata": {
        "id": "RwibogJ9Gg8L",
        "colab_type": "text"
      },
      "source": [
        "### Step 3: Download Grover Pre-Trained 'Mega' Model"
      ]
    },
    {
      "cell_type": "code",
      "metadata": {
        "id": "ip52YU9X5BwB",
        "colab_type": "code",
        "outputId": "0c824b33-48ce-47b6-8395-3e119c8529c0",
        "colab": {
          "base_uri": "https://localhost:8080/",
          "height": 68
        }
      },
      "source": [
        "import os\n",
        "import requests\n",
        "\n",
        "model_type = \"mega\"\n",
        "\n",
        "model_dir = os.path.join('/content/grover/models', model_type)\n",
        "if not os.path.exists(model_dir):\n",
        "    os.makedirs(model_dir)\n",
        "\n",
        "for ext in ['data-00000-of-00001', 'index', 'meta']:\n",
        "    r = requests.get(f'https://storage.googleapis.com/grover-models/{model_type}/model.ckpt.{ext}', stream=True)\n",
        "    with open(os.path.join(model_dir, f'model.ckpt.{ext}'), 'wb') as f:\n",
        "        file_size = int(r.headers[\"content-length\"])\n",
        "        if file_size < 1000:\n",
        "            raise ValueError(\"File doesn't exist? idk\")\n",
        "        chunk_size = 1000\n",
        "        for chunk in r.iter_content(chunk_size=chunk_size):\n",
        "            f.write(chunk)\n",
        "    print(f\"Just downloaded {model_type}/model.ckpt.{ext}!\", flush=True)"
      ],
      "execution_count": 19,
      "outputs": [
        {
          "output_type": "stream",
          "text": [
            "Just downloaded mega/model.ckpt.data-00000-of-00001!\n",
            "Just downloaded mega/model.ckpt.index!\n",
            "Just downloaded mega/model.ckpt.meta!\n"
          ],
          "name": "stdout"
        }
      ]
    },
    {
      "cell_type": "markdown",
      "metadata": {
        "id": "SgH7nwqoGqq7",
        "colab_type": "text"
      },
      "source": [
        "### Step 4: Generate Fake Blog Entries and Post to Wordpress"
      ]
    },
    {
      "cell_type": "code",
      "metadata": {
        "id": "uvGg4QZB-ZxX",
        "colab_type": "code",
        "outputId": "749217d0-7368-4165-b7a6-fba4aeba394e",
        "colab": {
          "base_uri": "https://localhost:8080/",
          "height": 408
        }
      },
      "source": [
        "import tensorflow as tf\n",
        "import numpy as np\n",
        "import sys\n",
        "import feedparser\n",
        "import time\n",
        "from datetime import datetime, timedelta\n",
        "import requests\n",
        "import base64\n",
        "from ttp import ttp\n",
        "\n",
        "sys.path.append('../')\n",
        "from lm.modeling import GroverConfig, sample\n",
        "from sample.encoder import get_encoder, _tokenize_article_pieces, extract_generated_target\n",
        "import random\n",
        "\n",
        "\n",
        "def get_fake_articles(domain):\n",
        "    \"\"\"\n",
        "    Create article objects for each fake headline we have in \n",
        "    SLANDEROUS_SEED_HEADLINES suitable for feeding into Grover\n",
        "    to generate the story body. The domain name is used to control\n",
        "    the style of the text generated by Grover - i.e. bbc.co.uk would generate\n",
        "    results in British English while nytimes.com would generate US English.\n",
        "    \"\"\"\n",
        "    articles = []\n",
        "\n",
        "    headlines_to_inject = SLANDEROUS_SEED_HEADLINES\n",
        "\n",
        "    for fake_headline in headlines_to_inject:\n",
        "        days_ago = random.randint(1, 7)\n",
        "        pub_datetime = datetime.now() - timedelta(days=days_ago)\n",
        "\n",
        "        publish_date = pub_datetime.strftime('%m-%d-%Y')\n",
        "        iso_date = pub_datetime.isoformat()\n",
        "\n",
        "        articles.append({\n",
        "            'summary': \"\",\n",
        "            'title': fake_headline,\n",
        "            'text': '',\n",
        "            'authors': [\"Staff Writer\"],\n",
        "            'publish_date': publish_date,\n",
        "            'iso_date': iso_date,\n",
        "            'domain': domain,\n",
        "            'image_url': IMAGE_TO_SLANDER,\n",
        "            'tags': ['Breaking News', 'Investigations', 'Criminal Profiles'],\n",
        "        })\n",
        "\n",
        "    return articles\n",
        "\n",
        "\n",
        "def get_articles_from_real_blog(domain, feed_url):\n",
        "    \"\"\"\n",
        "    Given an RSS feed url, grab all the stories and format them as article objects\n",
        "    suitable for feeding into Grover to generate replica stories.\n",
        "    \"\"\"\n",
        "    feed_data = feedparser.parse(feed_url)\n",
        "    articles = []\n",
        "    for post in feed_data.entries:\n",
        "        if 'published_parsed' in post:\n",
        "            publish_date = time.strftime('%m-%d-%Y', post.published_parsed)\n",
        "            iso_date = datetime(*post.published_parsed[:6]).isoformat()\n",
        "        else:\n",
        "            publish_date = time.strftime('%m-%d-%Y')\n",
        "            iso_date = datetime.now().isoformat()\n",
        "\n",
        "        if 'summary' in post:\n",
        "            summary = post.summary\n",
        "        else:\n",
        "            summary = None\n",
        "\n",
        "        tags = []\n",
        "        if 'tags' in post:\n",
        "            tags = [tag['term'] for tag in post['tags']]\n",
        "            if summary is None:\n",
        "                summary = \", \".join(tags)\n",
        "\n",
        "        image_url = None\n",
        "        if 'media_content' in post:\n",
        "            images = post.media_content\n",
        "            if len(images) > 0 and 'url' in images[0]:\n",
        "                image_url = images[0]['url']\n",
        "                # Hack for NYT images to fix tiny images in the RSS feed\n",
        "                if \"-moth\" in image_url:\n",
        "                    image_url = image_url.replace(\"-moth\", \"-threeByTwoMediumAt2X\")\n",
        "\n",
        "        if 'authors' in post:\n",
        "            authors = list(map(lambda x: x[\"name\"], post.authors))\n",
        "        else:\n",
        "            authors = [\"Staff Writer\"]\n",
        "\n",
        "        articles.append({\n",
        "            'summary': summary,\n",
        "            'title': post.title,\n",
        "            'text': '',\n",
        "            'authors': authors,\n",
        "            'publish_date': publish_date,\n",
        "            'iso_date': iso_date,\n",
        "            'domain': domain,\n",
        "            'image_url': image_url,\n",
        "            'tags': tags,\n",
        "        })\n",
        "\n",
        "    return articles\n",
        "\n",
        "\n",
        "\n",
        "\n",
        "\n",
        "def format_generated_body_text_as_html(article_text, image_url=None):\n",
        "    \"\"\"\n",
        "    Given the text of the news story, format it in html so it looks\n",
        "    more realistic - add paragraph breaks, turn urls into links, etc.\n",
        "    \"\"\"\n",
        "    # Add html links to twitter @ handles, hashtags and regular urls\n",
        "    p = ttp.Parser()\n",
        "    result = p.parse(article_text)\n",
        "    article_text = result.html\n",
        "\n",
        "    # Split the generated body into lines\n",
        "    lines = article_text.split(\"\\n\")\n",
        "\n",
        "    # Bold any short lines that look like section titles\n",
        "    new_lines = []\n",
        "    for line in lines:\n",
        "        if len(line) < 80 and not \".\" in line:\n",
        "            line = f\"<b>{line}</b>\"\n",
        "        new_lines.append(line)\n",
        "\n",
        "    # Add paragraph tags between lines\n",
        "    article_text = \"<p>\".join(new_lines)\n",
        "    \n",
        "    # If we have an image for the story, put it at the top.\n",
        "    if image_url is not None:\n",
        "        article_text = f\"<img src='{image_url}'><p>{article_text}\"\n",
        "    if image_url is None:\n",
        "        article_text = f\"<img src='https://thispersondoesnotexist.com/image.jpg'><p>{article_text}\"\n",
        " \n",
        "    return article_text\n",
        "\n",
        "\n",
        "def generate_article_attribute(sess, encoder, tokens, probs, article, target='article'):\n",
        "\n",
        "    \"\"\"\n",
        "    Given attributes about an article (title, author, etc), use that context to generate\n",
        "    a replacement for one of those attributes using the Grover model.\n",
        "\n",
        "    This function is based on the Grover examples distributed with the Grover code.\n",
        "    \"\"\"\n",
        "\n",
        "    # Tokenize the raw article text\n",
        "    article_pieces = _tokenize_article_pieces(encoder, article)\n",
        "\n",
        "    # Grab the article elements the model careas about - domain, date, title, etc.\n",
        "    context_formatted = []\n",
        "    for key in ['domain', 'date', 'authors', 'title', 'article']:\n",
        "        if key != target:\n",
        "            context_formatted.extend(article_pieces.pop(key, []))\n",
        "\n",
        "    # Start formatting the tokens in the way the model expects them, starting with\n",
        "    # which article attribute we want to generate.\n",
        "    context_formatted.append(encoder.__dict__['begin_{}'.format(target)])\n",
        "    # Tell the model which special tokens (such as the end token) aren't part of the text\n",
        "    ignore_ids_np = np.array(encoder.special_tokens_onehot)\n",
        "    ignore_ids_np[encoder.__dict__['end_{}'.format(target)]] = 0\n",
        "\n",
        "    # We are only going to generate one article attribute with a fixed\n",
        "    # top_ps cut-off of 95%. This simple example isn't processing in batches.\n",
        "    gens = []\n",
        "    article['top_ps'] = [0.95]\n",
        "\n",
        "    # Run the input through the TensorFlow model and grab the generated output\n",
        "    tokens_out, probs_out = sess.run(\n",
        "        [tokens, probs],\n",
        "        feed_dict={\n",
        "            # Pass real values for the inputs that the\n",
        "            # model needs to be able to run.\n",
        "            initial_context: [context_formatted],\n",
        "            eos_token: encoder.__dict__['end_{}'.format(target)],\n",
        "            ignore_ids: ignore_ids_np,\n",
        "            p_for_topp: np.array([0.95]),\n",
        "        }\n",
        "    )\n",
        "\n",
        "    # The model is done! Grab the results it generated and format the results into normal text.\n",
        "    for t_i, p_i in zip(tokens_out, probs_out):\n",
        "        extraction = extract_generated_target(output_tokens=t_i, encoder=encoder, target=target)\n",
        "        gens.append(extraction['extraction'])\n",
        "\n",
        "    # Return the generated text.\n",
        "    return gens[-1]\n",
        "\n",
        "\n",
        "# Ready to start grabbing RSS feeds\n",
        "domain = DOMAIN_STYLE_TO_COPY\n",
        "feed_urls = RSS_FEEDS_OF_REAL_STORIES_TO_EMULATE\n",
        "articles = []\n",
        "\n",
        "# Get the read headlines to look more realistic\n",
        "for feed_url in feed_urls:\n",
        "    articles += get_articles_from_real_blog(domain, feed_url)\n",
        "\n",
        "# Toss in the slanderous articles\n",
        "articles += get_fake_articles(domain)\n",
        "\n",
        "# Randomize the order the articles are generated\n",
        "random.shuffle(articles)\n",
        "\n",
        "# Load the pre-trained \"huge\" Grover model with 1.5 billion params\n",
        "model_config_fn = '/content/grover/lm/configs/mega.json'\n",
        "model_ckpt = '/content/grover/models/mega/model.ckpt'\n",
        "encoder = get_encoder()\n",
        "news_config = GroverConfig.from_json_file(model_config_fn)\n",
        "\n",
        "# Set up TensorFlow session to make predictions\n",
        "tf_config = tf.ConfigProto(allow_soft_placement=True)\n",
        "\n",
        "with tf.Session(config=tf_config, graph=tf.Graph()) as sess:\n",
        "    # Create the placehodler TensorFlow input variables needed to feed data to Grover model\n",
        "    # to make new predictions.\n",
        "    initial_context = tf.placeholder(tf.int32, [1, None])\n",
        "    p_for_topp = tf.placeholder(tf.float32, [1])\n",
        "    eos_token = tf.placeholder(tf.int32, [])\n",
        "    ignore_ids = tf.placeholder(tf.bool, [news_config.vocab_size])\n",
        "\n",
        "    # Load the model config to get it set up to match the pre-trained model weights\n",
        "    tokens, probs = sample(\n",
        "        news_config=news_config,\n",
        "        initial_context=initial_context,\n",
        "        eos_token=eos_token,\n",
        "        ignore_ids=ignore_ids,\n",
        "        p_for_topp=p_for_topp,\n",
        "        do_topk=False\n",
        "    )\n",
        "\n",
        "    # Restore the pre-trained Grover 'huge' model weights\n",
        "    saver = tf.train.Saver()\n",
        "    saver.restore(sess, model_ckpt)\n",
        "\n",
        "    # START MAKING SOME FAKE NEWS!!\n",
        "    # Loop through each headline we scraped from an RSS feed or made up\n",
        "    for article in articles:\n",
        "        print(f\"Building article from headline '{article['title']}'\")\n",
        "\n",
        "        # If the headline is one we made up about a specific person, it needs special handling\n",
        "        if NAME_TO_SLANDER in article['title']:\n",
        "            # The first generated article may go off on a tangent and not include the target name.\n",
        "            # In that case, re-generate the article until it at least talks about our target person\n",
        "            attempts = 0\n",
        "            while NAME_TO_SLANDER not in article['text']:\n",
        "\n",
        "                # Generate article body given the context of the real blog title\n",
        "                article['text'] = generate_article_attribute(sess, encoder, tokens, probs, article, target=\"article\")\n",
        "\n",
        "                # If the Grover model never manages to generate a good article about the target victim,\n",
        "                # give up after 10 tries so we don't get stuck in an infinite loop\n",
        "                attempts += 1\n",
        "                print('try to attemps once!')\n",
        "                print(attempts)\n",
        "                if attempts > 3:\n",
        "                  print('give up faking this article!')\n",
        "                  break\n",
        "        # If the headline was scraped from an RSS feed, we can just blindly generate an article\n",
        "        else:\n",
        "            article['text'] = generate_article_attribute(sess, encoder, tokens, probs, article, target=\"article\")\n",
        "\n",
        "        # Now, generate a fake headline that better fits the generated article body\n",
        "        # This replaces the real headline so none of the original article content remains\n",
        "        article['title'] = generate_article_attribute(sess, encoder, tokens, probs, article, target=\"title\")\n",
        "\n",
        "        # Grab generated text results so we can post them to WordPress\n",
        "        article_title = article['title']\n",
        "        article_text = article['text']\n",
        "        article_date = article[\"iso_date\"]\n",
        "        article_image_url = article[\"image_url\"]\n",
        "        article_tags = article['tags']\n",
        "\n",
        "        # Make the article body look more realistic - add spacing, link Twitter handles and hashtags, etc.\n",
        "        # You could add more advanced pre-processing here if you wanted.\n",
        "        article_text = format_generated_body_text_as_html(article_text, article_image_url)\n",
        "\n",
        "        print(f\" - Generated fake article titled '{article_title}'\")\n",
        "        # Post result to target Wordpress blog\n",
        "        #post_to_wordpress_blog(article_title, article_text, article_tags, article_date)\n",
        "        #post and activate new post\n",
        "        post = WordPressPost()\n",
        "        post.title = article_title\n",
        "        post.content = article_text\n",
        "        post.post_status = 'publish'\n",
        "        post.terms_names = {\n",
        "          'post_tag': article_tags,\n",
        "          'category': ['Thisisfake', 'fakenews']\n",
        "        }\n",
        "        wp.call(NewPost(post))"
      ],
      "execution_count": 0,
      "outputs": [
        {
          "output_type": "stream",
          "text": [
            "INFO:tensorflow:Restoring parameters from /content/grover/models/mega/model.ckpt\n",
            "Building article from headline 'Peter GodamnIs Barbie's makeover working?'\n",
            "try to attemps once!\n",
            "1\n",
            "try to attemps once!\n",
            "2\n",
            "try to attemps once!\n",
            "3\n",
            "try to attemps once!\n",
            "4\n",
            "give up faking this article!\n",
            " - Generated fake article titled 'Barbie sales grow more than other toys in the UK'\n",
            "Building article from headline 'Retail sales fall sharply in November'\n",
            " - Generated fake article titled 'UK retail sales fall as Brexit pressures take their toll'\n",
            "Building article from headline 'Cobham takeover: Boris Johnson defends £4bn sale to US equity firm'\n",
            " - Generated fake article titled 'Boris Johnson supports Hellman & Friedman's buyout of Cobham'\n",
            "Building article from headline 'Rail law proposal 'amounts to draconian strike ban''\n",
            " - Generated fake article titled 'Rail bosses to sack under new proposals'\n",
            "Building article from headline 'How the Christmas cracker became a million dollar idea'\n",
            " - Generated fake article titled 'The Christmas cracker: How history's most famous variety 'cracker' got its name'\n",
            "Building article from headline 'Peter GodamnAirbnb is not an estate agent, EU court rules'\n",
            "try to attemps once!\n",
            "1\n"
          ],
          "name": "stdout"
        }
      ]
    },
    {
      "cell_type": "markdown",
      "metadata": {
        "id": "N8quPRYRrBBI",
        "colab_type": "text"
      },
      "source": [
        "**Get more RAM:**"
      ]
    },
    {
      "cell_type": "code",
      "metadata": {
        "id": "TO-on-MgpU2q",
        "colab_type": "code",
        "colab": {}
      },
      "source": [
        "!pip install -q tqdm\n",
        "import tqdm\n",
        "from google.colab import auth\n",
        "from googleapiclient.discovery import build\n",
        "import io\n",
        "from googleapiclient.http import MediaIoBaseDownload\n",
        "from googleapiclient.http import MediaFileUpload\n",
        "\n",
        "\n",
        "def download_file_from_google_drive(file_id = None, out_file_name = None):\n",
        "  assert file_id is not None and out_file_name is not None\n",
        "  auth.authenticate_user()\n",
        "  drive_service = build('drive', 'v3')\n",
        "  request = drive_service.files().get_media(fileId=file_id)\n",
        "  downloaded = io.BytesIO()\n",
        "  downloader = MediaIoBaseDownload(downloaded, request)\n",
        "  done = False\n",
        "  pbar = tqdm.tqdm(total=100, desc=out_file_name)\n",
        "\n",
        "  while done is False:\n",
        "    # _ is a placeholder for a progress object that we ignore.\n",
        "    # (Our file is small, so we skip reporting progress.)\n",
        "    status, done = downloader.next_chunk()\n",
        "    pbar.update(status.progress() * 100)\n",
        "    #print(\"Downloaded: \", int(status.progress() * 100))\n",
        "\n",
        "  downloaded.seek(0)\n",
        "  #print('Downloaded file contents are: {}'.format(downloaded.read()[:10]))\n",
        "  with open(out_file_name, 'wb') as out:\n",
        "    out.write(downloaded.read())\n",
        "  print(\"Data downloaded to: \", out_file_name)\n",
        "  return out_file_name\n",
        " \n",
        "\n",
        "def save_file_to_google_drive(local_filename, dest_filename, mimetype = 'application/octet-stream'):\n",
        "  auth.authenticate_user()\n",
        "  drive_service = build('drive', 'v3')\n",
        "\n",
        "  file_metadata = {\n",
        "    'name': dest_filename,\n",
        "    'mimeType': mimetype\n",
        "  }\n",
        "  media = MediaFileUpload(local_filename, \n",
        "                          mimetype=mimetype,\n",
        "                          resumable=True)\n",
        "  created = drive_service.files().create(body=file_metadata,\n",
        "                                         media_body=media,\n",
        "                                         fields='id').execute()\n",
        "  print('File ID: {}'.format(created.get('id')))\n",
        "  return created.get('id')\n",
        "download_file_from_google_drive('1L-xyHzHNsQhPGFXdi2WbjZ2_lE4BPmzF','123.zip')"
      ],
      "execution_count": 0,
      "outputs": []
    },
    {
      "cell_type": "code",
      "metadata": {
        "id": "tECx0sKmqX79",
        "colab_type": "code",
        "colab": {}
      },
      "source": [
        "!unzip 123.zip"
      ],
      "execution_count": 0,
      "outputs": []
    },
    {
      "cell_type": "code",
      "metadata": {
        "id": "G6VC5LWm5My9",
        "colab_type": "code",
        "colab": {}
      },
      "source": [
        "print(article_image_url)"
      ],
      "execution_count": 0,
      "outputs": []
    }
  ]
}